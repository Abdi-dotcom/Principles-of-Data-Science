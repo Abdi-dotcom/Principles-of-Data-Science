{
  "nbformat": 4,
  "nbformat_minor": 0,
  "metadata": {
    "colab": {
      "provenance": [],
      "authorship_tag": "ABX9TyOV0NCEx3KPPVvYRwunezMy",
      "include_colab_link": true
    },
    "kernelspec": {
      "name": "python3",
      "display_name": "Python 3"
    },
    "language_info": {
      "name": "python"
    }
  },
  "cells": [
    {
      "cell_type": "markdown",
      "metadata": {
        "id": "view-in-github",
        "colab_type": "text"
      },
      "source": [
        "<a href=\"https://colab.research.google.com/github/Abdi-dotcom/Principles-of-Data-Science/blob/main/w1_data_inspection_and_subsetting.ipynb\" target=\"_parent\"><img src=\"https://colab.research.google.com/assets/colab-badge.svg\" alt=\"Open In Colab\"/></a>"
      ]
    },
    {
      "cell_type": "markdown",
      "source": [],
      "metadata": {
        "id": "ixr2IARywEGy"
      }
    },
    {
      "cell_type": "markdown",
      "source": [
        "## **Importing modules and libraries**\n",
        "the essential modules for data visualisation: matplotlib, seaborn\n",
        "...and for data manipulation: pandas, numpy\n",
        "\n"
      ],
      "metadata": {
        "id": "_ylGNmIkLDl5"
      }
    },
    {
      "cell_type": "code",
      "source": [
        "%matplotlib inline\n",
        "\n",
        "# Import Python Libraries\n",
        "import pandas as pd               # pandas mainly works with tabular data, utilises DataFrames and Series\n",
        "import numpy as np                # NumPy works with numerical data, utilises Arrays\n",
        "import matplotlib.pyplot as plt   # a plotting library extension of NumPy\n",
        "import seaborn as sns             # data visualization library based on matplotlib\n",
        "\n",
        "# Set up the visualisation engine (e.g., default size of figures)\n",
        "sns.set(\n",
        "    { \"figure.figsize\": (8, 6) },\n",
        "    style='ticks',\n",
        "    color_codes=True,\n",
        "    font_scale=0.8\n",
        ")\n",
        "%config InlineBackend.figure_formats = set(('retina', 'svg'))\n",
        "\n",
        "# Ignore warnings\n",
        "import warnings\n",
        "warnings.filterwarnings('ignore')"
      ],
      "metadata": {
        "id": "PVXuNy_pvcQa"
      },
      "execution_count": 1,
      "outputs": []
    },
    {
      "cell_type": "code",
      "source": [
        "gm = pd.read_csv(\n",
        "    'https://raw.githubusercontent.com/Rochelle784/6G7V0026-2526/main/datasets/gapminder.tsv',\n",
        "    sep='\\t'\n",
        ")"
      ],
      "metadata": {
        "id": "6-GphEs7MNX1"
      },
      "execution_count": 2,
      "outputs": []
    },
    {
      "cell_type": "markdown",
      "source": [
        "# Analysing the Data"
      ],
      "metadata": {
        "id": "NpSZOmsPLDvs"
      }
    },
    {
      "cell_type": "markdown",
      "source": [
        "#### Inspect data\n",
        "\n",
        "* **df.head()**         &emsp;<font color='green'># returns top n (5 by default, up to 60) rows of a data frame or series</font>\n",
        "* **df.tail()**         &emsp;<font color='green'># returns bottom n (5 by default, up to 60) rows of a data frame or series</font>\n",
        "* **df.sample()**       &emsp;<font color='green'># returns a random sample (default is 1) of the list without repeats</font>\n",
        "\n",
        "#### Summarise data\n",
        "\n",
        "* **df.info()**        &emsp;<font color='green'># returns a concise summary of the DataFrame</font>\n",
        "* **df.describe()**    &emsp;<font color='green'># computes a summary of statistics relating to the DataFrame columns</font>\n",
        "* **df.shape**       &emsp;<font color='green'># returns the number of rows and the number of columns</font>\n",
        "* **len(df)**       &emsp;<font color='green'># returns the number of rows</font>\n",
        "* **df.size**       &emsp;<font color='green'># returns the number of rows * the number of columns</font>\n",
        "* **df['ColumnName'].size**       &emsp;<font color='green'># returns the number of rows in a specific column</font>\n",
        "* **df.describe()**    &emsp;<font color='green'># computes a summary of statistics relating to the DataFrame columns</font>\n",
        "\n",
        "#### Descriptive statistics\n",
        "\n",
        "* **df.count()**          &emsp;<font color='green'># returns number of non-null observations</font>\n",
        "* **df.sum()**            &emsp;<font color='green'># returns sum of values</font>\n",
        "* **df.mean()**           &emsp;<font color='green'># returns mean of values</font>\n",
        "* **df.median()**         &emsp;<font color='green'># returns median of values</font>\n",
        "* **df.mode()**           &emsp;<font color='green'># returns mode of values</font>\n",
        "* **df.std()**            &emsp;<font color='green'># returns standard deviation of the values</font>\n",
        "* **df.min()**            &emsp;<font color='green'># returns minimum value</font>\n",
        "* **df.max()**            &emsp;<font color='green'># returns maximum value</font>\n",
        "<p>\n",
        "* **df['ColumnName'].value_counts()**  &emsp;<font color='green'># computes a Series containing counts of non-null values only on specified column</font></p>"
      ],
      "metadata": {
        "id": "j7AbsJPzLDx8"
      }
    },
    {
      "cell_type": "markdown",
      "source": [
        "Started by inspecting the data.to get sense of what the data is shape, type etc."
      ],
      "metadata": {
        "id": "67jwmHjDxjoo"
      }
    },
    {
      "cell_type": "code",
      "source": [],
      "metadata": {
        "id": "7tSjAgo9xhQQ"
      },
      "execution_count": null,
      "outputs": []
    }
  ]
}